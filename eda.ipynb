{
 "cells": [
  {
   "cell_type": "code",
   "execution_count": 7,
   "metadata": {},
   "outputs": [],
   "source": [
    "import warnings\n",
    "warnings.filterwarnings(\"ignore\")"
   ]
  },
  {
   "cell_type": "code",
   "execution_count": 8,
   "metadata": {},
   "outputs": [],
   "source": [
    "data = []\n",
    "f = open('renttherunway_final_data.json')\n",
    "for l in f:\n",
    "    data.append(l)"
   ]
  },
  {
   "cell_type": "code",
   "execution_count": 9,
   "metadata": {},
   "outputs": [
    {
     "data": {
      "text/plain": [
       "'{\"fit\": \"fit\", \"user_id\": \"420272\", \"bust size\": \"34d\", \"item_id\": \"2260466\", \"weight\": \"137lbs\", \"rating\": \"10\", \"rented for\": \"vacation\", \"review_text\": \"An adorable romper! Belt and zipper were a little hard to navigate in a full day of wear/bathroom use, but that\\'s to be expected. Wish it had pockets, but other than that-- absolutely perfect! I got a million compliments.\", \"body type\": \"hourglass\", \"review_summary\": \"So many compliments!\", \"category\": \"romper\", \"height\": \"5\\' 8\\\\\"\", \"size\": 14, \"age\": \"28\", \"review_date\": \"April 20, 2016\"}\\n'"
      ]
     },
     "execution_count": 9,
     "metadata": {},
     "output_type": "execute_result"
    }
   ],
   "source": [
    "data[0]"
   ]
  },
  {
   "cell_type": "code",
   "execution_count": 10,
   "metadata": {},
   "outputs": [
    {
     "data": {
      "text/plain": [
       "192544"
      ]
     },
     "execution_count": 10,
     "metadata": {},
     "output_type": "execute_result"
    }
   ],
   "source": [
    "len(data)"
   ]
  },
  {
   "cell_type": "code",
   "execution_count": null,
   "metadata": {},
   "outputs": [],
   "source": []
  }
 ],
 "metadata": {
  "kernelspec": {
   "display_name": "Python 3.8.8 ('base')",
   "language": "python",
   "name": "python3"
  },
  "language_info": {
   "codemirror_mode": {
    "name": "ipython",
    "version": 3
   },
   "file_extension": ".py",
   "mimetype": "text/x-python",
   "name": "python",
   "nbconvert_exporter": "python",
   "pygments_lexer": "ipython3",
   "version": "3.8.8"
  },
  "orig_nbformat": 4,
  "vscode": {
   "interpreter": {
    "hash": "5636f6b95148646feb0d24dbe44e68ecae31bd4665dcef46a11b1f0771f6eb91"
   }
  }
 },
 "nbformat": 4,
 "nbformat_minor": 2
}
