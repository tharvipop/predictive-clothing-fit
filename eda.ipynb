{
 "cells": [
  {
   "cell_type": "code",
   "execution_count": 1,
   "metadata": {},
   "outputs": [],
   "source": [
    "import gzip\n",
    "from collections import defaultdict\n",
    "import math\n",
    "import numpy as np\n",
    "import pandas as pd\n",
    "import string\n",
    "import random\n",
    "import string\n",
    "from sklearn import linear_model\n",
    "from sklearn.linear_model import Ridge\n",
    "from sklearn.metrics import mean_squared_error as MSE\n",
    "import json"
   ]
  },
  {
   "cell_type": "code",
   "execution_count": 2,
   "metadata": {},
   "outputs": [],
   "source": [
    "import warnings\n",
    "warnings.filterwarnings(\"ignore\")"
   ]
  },
  {
   "cell_type": "code",
   "execution_count": 33,
   "metadata": {},
   "outputs": [
    {
     "name": "stdout",
     "output_type": "stream",
     "text": [
      "9.092371481123546 33.86995503986883 65.31070730244805 137.3936494261715\n"
     ]
    }
   ],
   "source": [
    "data = []\n",
    "f = gzip.open('renttherunway_final_data.json.gz', 'r')\n",
    "\n",
    "ratings = []\n",
    "ages = []\n",
    "weights = []\n",
    "heights = []\n",
    "\n",
    "for l in f:\n",
    "    try:\n",
    "        x = eval(l)\n",
    "        \n",
    "        # Data cleaning: convert height, weight, and rating to integer types\n",
    "        x['rating'] = int(x['rating'])\n",
    "        ratings.append(x['rating'])\n",
    "\n",
    "        if 'age' in x:\n",
    "            x['age'] = int(x['age'])\n",
    "            ages.append(x['age'])\n",
    "        if 'weight' in x:\n",
    "            x['weight'] = int(x['weight'][:-3])\n",
    "            weights.append(x['weight'])\n",
    "        if 'height' in x:\n",
    "            feet = int(x['height'][0])\n",
    "            inches = int(x['height'][-3:-1].strip(\" \"))\n",
    "            x['height'] = (feet * 12) + inches\n",
    "            heights.append(x['height'])\n",
    "\n",
    "        data.append(x)\n",
    "    except NameError:\n",
    "        continue\n",
    "\n",
    "average_rating = sum(ratings) / len(ratings)\n",
    "\n",
    "average_age = sum(ages) / len(ages)\n",
    "average_weight = sum(weights) / len(weights)\n",
    "average_height = sum(heights) / len(heights)\n",
    "\n",
    "print(average_rating, average_age, average_height, average_weight)"
   ]
  },
  {
   "cell_type": "code",
   "execution_count": 4,
   "metadata": {},
   "outputs": [
    {
     "data": {
      "text/plain": [
       "{'fit': 'fit',\n",
       " 'user_id': '420272',\n",
       " 'bust size': '34d',\n",
       " 'item_id': '2260466',\n",
       " 'weight': '137lbs',\n",
       " 'rating': 10,\n",
       " 'rented for': 'vacation',\n",
       " 'review_text': \"An adorable romper! Belt and zipper were a little hard to navigate in a full day of wear/bathroom use, but that's to be expected. Wish it had pockets, but other than that-- absolutely perfect! I got a million compliments.\",\n",
       " 'body type': 'hourglass',\n",
       " 'review_summary': 'So many compliments!',\n",
       " 'category': 'romper',\n",
       " 'height': '5\\' 8\"',\n",
       " 'size': 14,\n",
       " 'age': '28',\n",
       " 'review_date': 'April 20, 2016'}"
      ]
     },
     "execution_count": 4,
     "metadata": {},
     "output_type": "execute_result"
    }
   ],
   "source": [
    "data[0]"
   ]
  },
  {
   "cell_type": "code",
   "execution_count": 5,
   "metadata": {},
   "outputs": [
    {
     "data": {
      "text/plain": [
       "192462"
      ]
     },
     "execution_count": 5,
     "metadata": {},
     "output_type": "execute_result"
    }
   ],
   "source": [
    "len(data)"
   ]
  },
  {
   "cell_type": "code",
   "execution_count": null,
   "metadata": {},
   "outputs": [],
   "source": [
    "# insert EDA here"
   ]
  },
  {
   "cell_type": "code",
   "execution_count": 36,
   "metadata": {},
   "outputs": [],
   "source": [
    "# Linear regression analysis\n",
    "\n",
    "def train_and_predict_model(feature_fn):\n",
    "  # Training/test/validation sets - 70% train, 15% valid, 15% test\n",
    "  X = [feature_fn(d) for d in data]\n",
    "  y = [d['rating'] for d in data]\n",
    "\n",
    "  Xtrain = X[:7 * len(X) // 10]\n",
    "  ytrain = y[:7 * len(y) // 10]\n",
    "  Xvalid = X[7 * len(X) // 10: int(8.5 * len(X) // 10)]\n",
    "  yvalid = y[7 * len(y) // 10: int(8.5 * len(y) // 10)]\n",
    "  Xtest = X[int(8.5 * len(X) // 10):]\n",
    "  ytest = y[int(8.5 * len(y) // 10):]\n",
    "\n",
    "  # Model creation\n",
    "  model = linear_model.LinearRegression(fit_intercept=False)\n",
    "  model.fit(Xtrain, np.matrix(ytrain).T)\n",
    "\n",
    "  # Model validation\n",
    "  ans = model.predict(Xvalid)\n",
    "  actual = ans.T[0]\n",
    "\n",
    "  mse = MSE(yvalid, actual)\n",
    "  return mse"
   ]
  },
  {
   "cell_type": "code",
   "execution_count": 29,
   "metadata": {},
   "outputs": [],
   "source": [
    "# Baseline rating model - predict the average rating for every prediction\n",
    "def feature_base(datum):\n",
    "  return [1, average_rating]"
   ]
  },
  {
   "cell_type": "code",
   "execution_count": 49,
   "metadata": {},
   "outputs": [
    {
     "data": {
      "text/plain": [
       "2.0101764219048124"
      ]
     },
     "execution_count": 49,
     "metadata": {},
     "output_type": "execute_result"
    }
   ],
   "source": [
    "mse_base = train_and_predict_model(feature_base)\n",
    "mse_base"
   ]
  },
  {
   "cell_type": "code",
   "execution_count": 51,
   "metadata": {},
   "outputs": [],
   "source": [
    "# Feature enginering #1: use the number of exclamation marks in review text to predict rating\n",
    "def feature_1(datum):\n",
    "  if 'review_text' in datum:\n",
    "    return [1, datum['review_text'].count('!')]\n",
    "  return [1, 0]"
   ]
  },
  {
   "cell_type": "code",
   "execution_count": 53,
   "metadata": {},
   "outputs": [
    {
     "data": {
      "text/plain": [
       "1.9444446124699253"
      ]
     },
     "execution_count": 53,
     "metadata": {},
     "output_type": "execute_result"
    }
   ],
   "source": [
    "mse_1 = train_and_predict_model(feature_1)\n",
    "mse_1"
   ]
  },
  {
   "cell_type": "code",
   "execution_count": 54,
   "metadata": {},
   "outputs": [],
   "source": [
    "# Feature enginering #2: use user attributes such as height, weight, and age along with item size to predict ratings of item \n",
    "def feature_2(datum):\n",
    "  weight = datum['weight'] if 'weight' in datum else average_weight\n",
    "  height = datum['height'] if 'height' in datum else average_height\n",
    "  age = datum['age'] if 'age' in datum else average_age\n",
    "  size = datum['size']\n",
    "  return [1, weight, height, age, size]  "
   ]
  },
  {
   "cell_type": "code",
   "execution_count": 55,
   "metadata": {},
   "outputs": [
    {
     "data": {
      "text/plain": [
       "2.0062008791177117"
      ]
     },
     "execution_count": 55,
     "metadata": {},
     "output_type": "execute_result"
    }
   ],
   "source": [
    "mse_2 = train_and_predict_model(feature_2)\n",
    "mse_2"
   ]
  },
  {
   "cell_type": "code",
   "execution_count": 56,
   "metadata": {},
   "outputs": [],
   "source": [
    "# Feature enginering #3: use user attributes along with review text exclamations\n",
    "def feature_3(datum):\n",
    "  weight = datum['weight'] if 'weight' in datum else average_weight\n",
    "  height = datum['height'] if 'height' in datum else average_height\n",
    "  age = datum['age'] if 'age' in datum else average_age\n",
    "  size = datum['size']\n",
    "  excl_count = datum['review_text'].count('!') if 'review_text' in datum else 0\n",
    "  return [1, weight, height, age, size, excl_count]  "
   ]
  },
  {
   "cell_type": "code",
   "execution_count": 57,
   "metadata": {},
   "outputs": [
    {
     "data": {
      "text/plain": [
       "1.942181367154325"
      ]
     },
     "execution_count": 57,
     "metadata": {},
     "output_type": "execute_result"
    }
   ],
   "source": [
    "mse_3 = train_and_predict_model(feature_3)\n",
    "mse_3"
   ]
  },
  {
   "cell_type": "code",
   "execution_count": 58,
   "metadata": {},
   "outputs": [
    {
     "data": {
      "text/plain": [
       "[2.0101764219048124, 1.9444446124699253, 2.0062008791177117, 1.942181367154325]"
      ]
     },
     "execution_count": 58,
     "metadata": {},
     "output_type": "execute_result"
    }
   ],
   "source": [
    "mses_linreg = [mse_base, mse_1, mse_2, mse_3]\n",
    "mses_linreg"
   ]
  },
  {
   "cell_type": "code",
   "execution_count": null,
   "metadata": {},
   "outputs": [],
   "source": []
  }
 ],
 "metadata": {
  "kernelspec": {
   "display_name": "Python 3.8.10 64-bit",
   "language": "python",
   "name": "python3"
  },
  "language_info": {
   "codemirror_mode": {
    "name": "ipython",
    "version": 3
   },
   "file_extension": ".py",
   "mimetype": "text/x-python",
   "name": "python",
   "nbconvert_exporter": "python",
   "pygments_lexer": "ipython3",
   "version": "3.8.10"
  },
  "orig_nbformat": 4,
  "vscode": {
   "interpreter": {
    "hash": "31f2aee4e71d21fbe5cf8b01ff0e069b9275f58929596ceb00d14d90e3e16cd6"
   }
  }
 },
 "nbformat": 4,
 "nbformat_minor": 2
}
